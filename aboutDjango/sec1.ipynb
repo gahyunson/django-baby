{
 "cells": [
  {
   "cell_type": "markdown",
   "metadata": {},
   "source": [
    "1. Function Based *Views* : 함수로 HTTP 요청 처리하는 부분,\n",
    "비즈니스 로직 단계, 비즈니스 로직에 필요한 것들을 여기서 작업\n",
    "\n",
    "2. Models : 데이터베이스 인터페이스,\n",
    "데이터베이스와 연동하는 단계, data 정의와 사용 \n",
    "\n",
    "3. Templates : HTML에서 사용하는 특정 문법들\n",
    "\n",
    "4. Admin : 심플한 DB 레코드 관리 UI (장고에서 기본으로 지원해줌)\n",
    "\n",
    "5. Logging : 다양한 경로로 메세지 로깅\n",
    "\n",
    "6. Static files\n",
    "\n",
    "7. Messages framework\n",
    "\n",
    "VS    \n",
    "1. Class Based Views : 클래스 기반 뷰 \n",
    "\n",
    "2. **Forms** : 입력폼 생성, 입력값 유효성 검사 및 DB로 저장\n",
    "\n",
    "3. 테스팅\n",
    "\n",
    "4. 국제화, 지역화\n",
    "\n",
    "5. 캐싱\n",
    "\n",
    "6. Geographic : PostgreSQL 중심 ,, \n",
    "---\n",
    "\n",
    "Web Brower <-> Web server <-> DB server , Cache server\n",
    "\n",
    "Web Server\n",
    "- URLCont(URL 별로 호출할 함수 등록)\n",
    "- View(URL 별로 호출될 함수들)\n",
    "- Model(DB와 통신)\n",
    "- Template engine"
   ]
  },
  {
   "cell_type": "markdown",
   "metadata": {},
   "source": [
    "장고 앱의 재활용을 위해서는,      \n",
    "1. 앱 생성 `python manage.py startapp appname`\n",
    "2. 해당 앱 안에 urls.py 파일 생성\n",
    "\n",
    "재사용성을 위해서는 기능 단위로 구현한다.    \n",
    "unique 이름 사용.\n",
    "\n",
    "3. project - setting.py 에서 INSTALLED_APPS 이곳에 앱 등록해야함.\n",
    "\n",
    "대략적인 앱 작성 순서:\n",
    "- model 작성\n",
    "- admin 작성 \n",
    "- project - urls 작성\n",
    "- views 작성\n",
    "- app - templates - html 작성\n",
    "- app - urls 작성"
   ]
  },
  {
   "cell_type": "markdown",
   "metadata": {},
   "source": []
  }
 ],
 "metadata": {
  "language_info": {
   "name": "python"
  },
  "orig_nbformat": 4
 },
 "nbformat": 4,
 "nbformat_minor": 2
}
