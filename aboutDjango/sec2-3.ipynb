{
 "cells": [
  {
   "cell_type": "markdown",
   "metadata": {},
   "source": [
    "# OneToOneField\n",
    "- 1 : 1 relationship\n",
    "- ex) User : Profile\n",
    "- ForeignKey(Unique=True) 설정과 유사, reverse에서 차이\n",
    "    - 1:1을 FK로 지정 -> `profile.user_set.first()` 코드로 user로 접근 가능\n",
    "    - 1:1을 O2O로 지정 -> `profile.user` 코드로 user에 접근 가능\n",
    "profile에 user가 지정되어 있어야함 (doesnotexist 에러발생 가능)\n",
    "- OneToOneField(to, on_delete 지정)    \n",
    "예를들어서 ..."
   ]
  },
  {
   "cell_type": "code",
   "execution_count": null,
   "metadata": {},
   "outputs": [],
   "source": [
    "# django/contrib/auth/models.py\n",
    "class User(AbstractBaseUser):\n",
    "    ..."
   ]
  },
  {
   "cell_type": "markdown",
   "metadata": {},
   "source": [
    "(우리가 수정할....수 있지만 수정하지 않는 클래스를 불러올 때) 일 때,"
   ]
  },
  {
   "cell_type": "code",
   "execution_count": null,
   "metadata": {},
   "outputs": [],
   "source": [
    "# accounts/models.py\n",
    "class Profile(models.Model):\n",
    "    author = models.OneToOneFiled(settings.AUTH_USER_MODEL, on_delete=models.CASCADE)"
   ]
  },
  {
   "cell_type": "markdown",
   "metadata": {},
   "source": [
    "1. startapp appname\n",
    "2. Create `appname/urls.py`\n",
    "3. Add `appname` to INSTALLED_APPS of `projectname/settings.py`\n",
    "4. Add `urlpatterns = []` to `appname/urls.py`\n",
    "5. Add urlpatterns `path('appname/', include('appname.urls'))`"
   ]
  },
  {
   "cell_type": "code",
   "execution_count": 2,
   "metadata": {},
   "outputs": [],
   "source": [
    "import sys\n",
    "sys.path.append('/Users/gahyunson/Programming/Learning/InflearnDjango/askcompany')\n",
    "\n",
    "import os\n",
    "os.environ['DJANGO_SETTINGS_MODULE'] = 'askcompany.settings'\n",
    "os.environ['DJANGO_ALLOW_ASYNC_UNSAFE'] = \"true\"\n",
    "\n",
    "import django\n",
    "django.setup()"
   ]
  },
  {
   "cell_type": "code",
   "execution_count": 4,
   "metadata": {},
   "outputs": [
    {
     "ename": "AttributeError",
     "evalue": "'NoneType' object has no attribute 'user'",
     "output_type": "error",
     "traceback": [
      "\u001b[0;31m---------------------------------------------------------------------------\u001b[0m",
      "\u001b[0;31mAttributeError\u001b[0m                            Traceback (most recent call last)",
      "\u001b[1;32m/Users/gahyunson/Programming/Learning/InflearnDjango/aboutDjango/sec2-3.ipynb Cell 7\u001b[0m line \u001b[0;36m4\n\u001b[1;32m      <a href='vscode-notebook-cell:/Users/gahyunson/Programming/Learning/InflearnDjango/aboutDjango/sec2-3.ipynb#X11sZmlsZQ%3D%3D?line=0'>1</a>\u001b[0m \u001b[39mfrom\u001b[39;00m \u001b[39maccounts\u001b[39;00m\u001b[39m.\u001b[39;00m\u001b[39mmodels\u001b[39;00m \u001b[39mimport\u001b[39;00m Profile\n\u001b[1;32m      <a href='vscode-notebook-cell:/Users/gahyunson/Programming/Learning/InflearnDjango/aboutDjango/sec2-3.ipynb#X11sZmlsZQ%3D%3D?line=2'>3</a>\u001b[0m profile \u001b[39m=\u001b[39m Profile\u001b[39m.\u001b[39mobjects\u001b[39m.\u001b[39mfirst()\n\u001b[0;32m----> <a href='vscode-notebook-cell:/Users/gahyunson/Programming/Learning/InflearnDjango/aboutDjango/sec2-3.ipynb#X11sZmlsZQ%3D%3D?line=3'>4</a>\u001b[0m profile\u001b[39m.\u001b[39;49muser\n",
      "\u001b[0;31mAttributeError\u001b[0m: 'NoneType' object has no attribute 'user'"
     ]
    }
   ],
   "source": [
    "from accounts.models import Profile\n",
    "\n",
    "profile = Profile.objects.first()\n",
    "profile.user"
   ]
  },
  {
   "cell_type": "code",
   "execution_count": 7,
   "metadata": {},
   "outputs": [],
   "source": [
    "# from django.contrib.auth.models import User\n",
    "from django.contrib.auth import get_user_model\n",
    "\n",
    "User = get_user_model()\n",
    "user = User.objects.first()"
   ]
  },
  {
   "cell_type": "code",
   "execution_count": 10,
   "metadata": {},
   "outputs": [],
   "source": [
    "profile"
   ]
  },
  {
   "cell_type": "code",
   "execution_count": 9,
   "metadata": {},
   "outputs": [
    {
     "ename": "RelatedObjectDoesNotExist",
     "evalue": "User has no profile.",
     "output_type": "error",
     "traceback": [
      "\u001b[0;31m---------------------------------------------------------------------------\u001b[0m",
      "\u001b[0;31mRelatedObjectDoesNotExist\u001b[0m                 Traceback (most recent call last)",
      "\u001b[1;32m/Users/gahyunson/Programming/Learning/InflearnDjango/aboutDjango/sec2-3.ipynb Cell 9\u001b[0m line \u001b[0;36m1\n\u001b[0;32m----> <a href='vscode-notebook-cell:/Users/gahyunson/Programming/Learning/InflearnDjango/aboutDjango/sec2-3.ipynb#X13sZmlsZQ%3D%3D?line=0'>1</a>\u001b[0m user\u001b[39m.\u001b[39;49mprofile\n\u001b[1;32m      <a href='vscode-notebook-cell:/Users/gahyunson/Programming/Learning/InflearnDjango/aboutDjango/sec2-3.ipynb#X13sZmlsZQ%3D%3D?line=1'>2</a>\u001b[0m Profile\u001b[39m.\u001b[39mobjects\u001b[39m.\u001b[39mget(user\u001b[39m=\u001b[39muser)\n",
      "File \u001b[0;32m~/Programming/Learning/InflearnDjango/idjango_venv/lib/python3.10/site-packages/django/db/models/fields/related_descriptors.py:492\u001b[0m, in \u001b[0;36mReverseOneToOneDescriptor.__get__\u001b[0;34m(self, instance, cls)\u001b[0m\n\u001b[1;32m    489\u001b[0m     \u001b[39mself\u001b[39m\u001b[39m.\u001b[39mrelated\u001b[39m.\u001b[39mset_cached_value(instance, rel_obj)\n\u001b[1;32m    491\u001b[0m \u001b[39mif\u001b[39;00m rel_obj \u001b[39mis\u001b[39;00m \u001b[39mNone\u001b[39;00m:\n\u001b[0;32m--> 492\u001b[0m     \u001b[39mraise\u001b[39;00m \u001b[39mself\u001b[39m\u001b[39m.\u001b[39mRelatedObjectDoesNotExist(\n\u001b[1;32m    493\u001b[0m         \u001b[39m\"\u001b[39m\u001b[39m%s\u001b[39;00m\u001b[39m has no \u001b[39m\u001b[39m%s\u001b[39;00m\u001b[39m.\u001b[39m\u001b[39m\"\u001b[39m\n\u001b[1;32m    494\u001b[0m         \u001b[39m%\u001b[39m (instance\u001b[39m.\u001b[39m\u001b[39m__class__\u001b[39m\u001b[39m.\u001b[39m\u001b[39m__name__\u001b[39m, \u001b[39mself\u001b[39m\u001b[39m.\u001b[39mrelated\u001b[39m.\u001b[39mget_accessor_name())\n\u001b[1;32m    495\u001b[0m     )\n\u001b[1;32m    496\u001b[0m \u001b[39melse\u001b[39;00m:\n\u001b[1;32m    497\u001b[0m     \u001b[39mreturn\u001b[39;00m rel_obj\n",
      "\u001b[0;31mRelatedObjectDoesNotExist\u001b[0m: User has no profile."
     ]
    }
   ],
   "source": [
    "user.profile # profile 없으면 관련된 에러 ...\n",
    "# Profile.objects.get(user=user)"
   ]
  },
  {
   "cell_type": "markdown",
   "metadata": {},
   "source": [
    "# ManyToManyField\n",
    "- M : M relationship\n",
    "- 어느쪽이라도 필드 지정 가능\n",
    "- ManyToManyField(to, blank=False)"
   ]
  },
  {
   "cell_type": "code",
   "execution_count": null,
   "metadata": {},
   "outputs": [],
   "source": [
    "class Tag(models.Model):\n",
    "    name = models.CharField(max_length=50, unique=True)\n",
    "    post_set = models.ManyToManyField(Post, blank=False)\n",
    "\n",
    "    def __str__(self):\n",
    "        return self.name"
   ]
  },
  {
   "cell_type": "markdown",
   "metadata": {},
   "source": [
    "이렇게 Tag 측에도 지정을 할 수 있지만 !"
   ]
  },
  {
   "cell_type": "code",
   "execution_count": null,
   "metadata": {},
   "outputs": [],
   "source": [
    "class Post(models.Model):\n",
    "\n",
    "    tag_set = models.ManyToManyField('Tag', blank=True)"
   ]
  },
  {
   "cell_type": "markdown",
   "metadata": {},
   "source": [
    "이렇게 Tag를 활용할 Post측에 작성하는 것이 구조 이해에 더 도움이 될 것이다!\n",
    "\n",
    "ManyToMany의 경우 두 테이블을 연결하는 중간 테이블이 자동으로 생성된다.\n",
    "`m_n_set`\n",
    "\n",
    "### NoSQL 기능을 사용하고 싶다면?\n",
    "- djkoch/jsonfield\n",
    "json 객체 저장 읽기 가능    \n",
    "내부 필드에 대해 쿼리 불가 \n",
    "- django.contrib.postgres.fields.JSONField    \n",
    "내부 필드에 대해 쿼리 지원\n",
    "- adamchainz/django-mysql"
   ]
  }
 ],
 "metadata": {
  "kernelspec": {
   "display_name": "idjango_venv",
   "language": "python",
   "name": "python3"
  },
  "language_info": {
   "codemirror_mode": {
    "name": "ipython",
    "version": 3
   },
   "file_extension": ".py",
   "mimetype": "text/x-python",
   "name": "python",
   "nbconvert_exporter": "python",
   "pygments_lexer": "ipython3",
   "version": "3.10.6"
  },
  "orig_nbformat": 4
 },
 "nbformat": 4,
 "nbformat_minor": 2
}
