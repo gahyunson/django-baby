{
 "cells": [
  {
   "cell_type": "markdown",
   "metadata": {},
   "source": [
    "# Model Manager (모델을 통한 조회)\n",
    "Model Manager는 ModelsCls.objects로 제공\n",
    "\n",
    "Example)    \n",
    "`SELECT * FROM app_model;`    \n",
    "`ModelCls.objects.all()`\n",
    "\n",
    "`SELECT * FROM app_model ORDER BY id DESC LIMIT 10;`    \n",
    "`ModelCls.objects.all().order_by('-id')[:10]`\n",
    "\n",
    "`INSERT INTO app_model (title) VALUES (\"New Title\");`    \n",
    "`ModelCls.objects.create(title=\"New Title\")`"
   ]
  },
  {
   "cell_type": "code",
   "execution_count": null,
   "metadata": {},
   "outputs": [],
   "source": [
    "from instagram.models import Post\n",
    "\n",
    "qs = Post.objects.all() # data를 쿼리할 준비\n",
    "print(type(qs), qs.query)"
   ]
  },
  {
   "cell_type": "markdown",
   "metadata": {},
   "source": [
    "# QuerySet\n",
    "Chaining 지원 -> 조건을 계속해서 덧붙일 수 있다."
   ]
  },
  {
   "cell_type": "code",
   "execution_count": null,
   "metadata": {},
   "outputs": [],
   "source": [
    "qs = Post.objects.all().filter(message_startswith='첫번째')"
   ]
  },
  {
   "cell_type": "markdown",
   "metadata": {},
   "source": []
  }
 ],
 "metadata": {
  "language_info": {
   "name": "python"
  },
  "orig_nbformat": 4
 },
 "nbformat": 4,
 "nbformat_minor": 2
}
