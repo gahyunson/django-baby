{
 "cells": [
  {
   "cell_type": "markdown",
   "metadata": {},
   "source": [
    "NoSQL 그들만의 쿼리를 씀 \n",
    "\n",
    "\n",
    "DB TABLE & Python Class MAPPING\n",
    "1. model 클래스명은 단수형으로,    \n",
    "2. mapping되는 모델 클래스 내역과 DB TABLE 필드 내역이 일치해야함\n",
    "3. 모델 생성 전, DB 설계 필수\n",
    "\n",
    "장고 모델로 DB 형상 관리할 땐,\n",
    "1. 모델 클래스 작성\n",
    "2. 모델 클래스에서 makemigrations - table create\n",
    "3. migrate - create 등 변경된 사항 DB에 적용\n",
    "4. 모델 활용"
   ]
  },
  {
   "cell_type": "code",
   "execution_count": null,
   "metadata": {
    "collapsed": false
   },
   "outputs": [],
   "source": [
    "python manage.py makemigrations appname\n",
    "python manage.py migrate appname"
   ]
  },
  {
   "cell_type": "markdown",
   "metadata": {
    "collapsed": false
   },
   "source": [
    "python manage.py dbshell\n",
    "SQLite version 3.39.5 2022-10-14 20:58:05\n",
    "Enter \".help\" for usage hints.\n",
    "sqlite> .tables\n",
    "auth_group                  django_admin_log          \n",
    "auth_group_permissions      django_content_type       \n",
    "auth_permission             django_migrations         \n",
    "auth_user                   django_session            \n",
    "auth_user_groups            instagram_post            \n",
    "auth_user_user_permissions\n",
    "sqlite> .schema\n"
   ]
  },
  {
   "cell_type": "markdown",
   "metadata": {
    "collapsed": false
   },
   "source": [
    "### Model Field Type \n",
    "Field Types DB에서 지원하는 필드들을 반영\n",
    "최대한 필드타입을 타이트하게 지정하면 -> 입력값 오류를 막을 수 있다\n",
    "\n",
    "프론트엔드의 유효성 검사 = 사용자 편의    \n",
    "백엔드 유효성 검사 = 필수 \n",
    "\n",
    "유효성 로직 - Django Form/Model 로 지원, django-rest-framework Serializer 로 지원.\n",
    "\n",
    "Primary Key : **AutoField**(자동으로 1,2,3,...), BigAutoField     \n",
    "문자열 : **CharField, TextField, SlugField**    \n",
    "날짜/시간 : DateField, TimeField, **DateTimeField**     \n",
    "참/거짓 : **BooleanField**, NullBooleanField     \n",
    "숫자 : IntegerField, SmallIntegerField, PositiveIntegerField, PositiveSmallIntegerfield,     BigIntegerField, DecimalField, FloatField\n",
    "파일 : BinaryField, **FileField, ImageField**, FilePathField\n",
    "\n",
    "이메일 : EmailField        \n",
    "URL : URLField        \n",
    "UUID: UUIDField    \n",
    "아이피 : GenericIPAddressField    \n",
    "Relationship Types : ForeignKey , ManyToManyField , OneToOneField\n",
    "   \n",
    "DB에서 Varchar - CharField, SlugField, URLField, EmailField 등\n",
    "Python에서 AutoField - int , BinaryField - bytes , BooleanField - bool ,    \n",
    "CharField/SlugField/URLField/EmailField - str\n",
    "\n",
    "\n",
    "### Field 공통 옵션들\n",
    "\n",
    "blank : 문자열의 경우, empty 허용 여부 (default=False)    \n",
    "null (DB option)    \n",
    "db_index (DB option): migration 하기위한 옵션, index 값 부여 유무, unique field 빠르게 서치하기 위함, \n",
    "default    \n",
    "unique (DB option) : 현 테이블 내 유일성 여부 (default=False)     \n",
    "choices : select 박스 소스     \n",
    "validators :validators(유효성 검사)를 수행할 함수를 다수 지정     \n",
    "verbose_name : 필드 레이블, 미지정시 필드명이 사용     \n",
    "help_text :필드 입력 도움말     \n",
    "\n",
    "- blank/null 지정 최소화    \n",
    "- Serializer를 통해 유효한 로직 가져다 쓸 수 있음\n"
   ]
  },
  {
   "cell_type": "markdown",
   "metadata": {
    "collapsed": false
   },
   "source": [
    "1: N 일 때,\n",
    "N 측에 FK 설정한다. \n",
    "`author = models.ForeignKey(settings.AUTH_USER_MODEL(1에 해당하는 것), ...)`\n",
    "\n",
    "1: 1 일 때,\n",
    "`user = models.OneToOneField(settings.AUTH_USER_MODEL, ... )`\n",
    "\n",
    "N: N ,\n",
    "`tag_set = models.ManyToManyField('Tag', blank=True)`\n",
    "\n",
    "\n"
   ]
  },
  {
   "cell_type": "markdown",
   "metadata": {
    "collapsed": false
   },
   "source": [
    "# Django admin으로 데이터 관리하기\n",
    "\n",
    "URL reverse : \n",
    "\n",
    "admin 제공되는 UI를 이용해서 쉽게 관리 가능 \n",
    "\n",
    "**Model class를 admin에 등록하기**\n",
    "방법 1. _admin.site.register_(Post)\n",
    "\n",
    "방법 2. _class PostAdmin_(admin.ModelAdmin):\n",
    "    pass\n",
    "admin.site(register(Post, _PostAdmin_))\n",
    "\n",
    "방법 3. _@admin.register_(Post)\n",
    "class PostAdmin(admin.ModelAdmin):\n",
    "    pass\n",
    "(Wrapping 방법 ...)\n",
    "\n",
    "**def __str__(self)**: 이것은 자바의 toString() 같은 것.\n",
    "\n",
    "**list_display_links**: \n",
    "admin에서 list_display 를 설정하는데, 링크를 걸 속성 리스트를 설정한다.\n",
    "\n",
    "**search_fields**: \n",
    "`search_fields = ['message']` 어떤 데이터를 검색할 것인지 설정, where .. like .. 기능\n",
    " \n",
    "**list_filter**\n",
    "BooleanField 타입의 데이터를 추가하고, 이를 이용해서 필터링 예제를 볼 수 있다.    \n",
    "추가한 데이터를 이용해서 , 추가한 기간, 공개여부에 따라 게시글을 볼 수 있다.\n",
    "`list_filter = ['created_at', 'is_public']` filtering\n",
    "where is_public='t' . ..\n",
    "\n",
    " \n",
    "    \n"
   ]
  },
  {
   "cell_type": "markdown",
   "metadata": {
    "collapsed": false
   },
   "source": [
    "- Static File\n",
    "app / project 단위 save, serving\n",
    "\n",
    "- Media File\n",
    "FileField(File Storage API 로 파일 저장),\n",
    "장고에서만 사용,\n",
    "    \n",
    "ImageField 를 통해 저장한 모든 파일,\n",
    "\n",
    "### pillow  Library\n",
    "\n",
    "Media file is,\n",
    "1. HttpRequest.FILES 를 통해 파일 전달\n",
    "2. 뷰 로직이나 폼 로직을 통해, 유효성 검증\n",
    "3. FileField, ImageField 필드에 경로 저장\n",
    "4. settings.MEDIA_ROOT 경로에 파일 저장 \n",
    "\n",
    "settings.MEDIA_*\n",
    "MEDIA_ROOT 경로 지정안해주면, 프로젝트 루트에 저장이 된다.    \n",
    "MEDIA_URL \n",
    "`MEDIA_URL = 'media'`\n",
    "\n",
    "upload_to option :\n",
    "settings.MEDIA_ROOT 가 default\n",
    "\n",
    "\n",
    "\n",
    "image url \n",
    "\n",
    "간단한 썸네일 만들기 가능 \n",
    "\n",
    "\n",
    "global_settings에 settings overriding\n",
    "\n",
    "\n",
    "---\n",
    "프로젝트 단위 버전 관리하는 방법\n",
    "app - 'requirements.txt' 파일을 생성하고,\n",
    "```\n",
    "django~=3.0.0\n",
    "pillow\n",
    "``` \n",
    "와 같이 작성한다.\n",
    "`pip install -r requirements.txt` 를 실행하면, 한번에 설치된다.\n",
    "\n"
   ]
  },
  {
   "cell_type": "markdown",
   "metadata": {
    "collapsed": false
   },
   "source": [
    "upload_to : settings.MEDIA_ROOT 하위에서 저장한 파일명/경로명 결정,    \n",
    "파일 덮어쓰기 방지해줌\n",
    "\n",
    "urlpatterns \n",
    "\n",
    "파일명 랜덤으로 만들어주는 기능 uuid\n",
    "\n",
    "file upload size : settings.FILE_UPLOAD_MAX_MEMORY_SIZE    \n",
    "2.5MB 이하 : 메모리에 담는 ,     \n",
    "이상 : 디스크에 담는 ,    "
   ]
  },
  {
   "cell_type": "markdown",
   "metadata": {
    "collapsed": false
   },
   "source": [
    "# Shell\n",
    "`python manage.py shell`\n"
   ]
  },
  {
   "cell_type": "code",
   "execution_count": null,
   "metadata": {
    "collapsed": false,
    "is_executing": true
   },
   "outputs": [],
   "source": [
    "import os\n",
    "os.environ['DJANGO_SETTINGS_MODULE'] = 'askcompany.settings'\n",
    "\n",
    "import django\n",
    "django.setup()\n",
    "\n",
    "from instagram.models import Post\n",
    "qs = Post.objects.all()\n",
    "print(qs.query)"
   ]
  },
  {
   "cell_type": "markdown",
   "metadata": {
    "collapsed": false
   },
   "source": []
  },
  {
   "cell_type": "code",
   "execution_count": null,
   "metadata": {
    "collapsed": false
   },
   "outputs": [],
   "source": []
  },
  {
   "cell_type": "markdown",
   "metadata": {
    "collapsed": false
   },
   "source": [
    "\n",
    "  "
   ]
  },
  {
   "cell_type": "code",
   "execution_count": null,
   "metadata": {
    "collapsed": false
   },
   "outputs": [],
   "source": []
  }
 ],
 "metadata": {
  "kernelspec": {
   "display_name": "Python 3 (ipykernel)",
   "language": "python",
   "name": "python3"
  },
  "language_info": {
   "name": "python"
  },
  "orig_nbformat": 4
 },
 "nbformat": 4,
 "nbformat_minor": 2
}
