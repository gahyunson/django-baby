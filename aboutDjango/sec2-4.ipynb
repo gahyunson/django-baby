{
 "cells": [
  {
   "cell_type": "markdown",
   "source": [
    "# Database Scheme management though Migration."
   ],
   "metadata": {
    "collapsed": false
   },
   "id": "a715a384919e59e9"
  },
  {
   "cell_type": "markdown",
   "source": [
    "### Migrations\n",
    "model.py의 변경내역을 database scheme에 반영시켜준다.    \n",
    "django를 통해 database history 기록 관리와 반영 기능."
   ],
   "metadata": {
    "collapsed": false
   },
   "id": "a12dbded9fc9db09"
  },
  {
   "cell_type": "code",
   "execution_count": null,
   "outputs": [],
   "source": [
    "# migration file create\n",
    "python manage.py makemigrations <appname>\n",
    "\n",
    "# applying migration to the database\n",
    "python manage.py migrate <appname>\n",
    "\n",
    "# print 마그레이션 적용 현황\n",
    "python manage.py showmigrations\n",
    "\n",
    "# print SQL records of the migrations\n",
    "# you can see SQL sentences.\n",
    "python manage.py sqlmigrate <appname> <migration-name>"
   ],
   "metadata": {
    "collapsed": false
   },
   "id": "e5b9939a0174a67e"
  },
  {
   "cell_type": "markdown",
   "source": [
    "### Migration File\n",
    "DB에 변화를 가하는 Operation Lists.    \n",
    "- table create/remove , field add/remove etc.\n",
    "- custom python/SQL Operation.\n",
    "    - 나만의 SQL custom 가능.\n",
    "\n",
    "대개 model로부터 자동 생성 (makemigrations)\n",
    "\n",
    "DB에 적용하기 전, migration을 확인하여, 어떻게 변화될지 확인하는 것이 좋다!    \n",
    "DB는 수시로 백업할 것.\n",
    "\n",
    "같은 Migration File이어도 DB에 따라 다른 SQL이 생성됨! -> 각 DB마다 지원되는게 다름!\n",
    "\n",
    "1. 모델 변경내역\n",
    "2. makemigrations command\n",
    "3. migration file에서 SQL 확인\n",
    "4. migrate command\n",
    "5. DB에 적용\n",
    "\n",
    "- model.py에 어떠한 변경 -DB scheme에 변화가 없어도- 발생시 makemigrations 명령으로 마이그레이션 파일 생성!\n",
    "- 모델 변화과정이 기록되도록 해주니까 ,,, scheme 변화를 기록함.\n",
    "- 마이그레이션 파일은 모두 지우면 안됨 - history 쌓아가야함\n",
    "- 만약 미적용된 것은 삭제해두 괜찮음\n",
    "- `squashmigrations` command로 잘게 쪼개어진 ... 파일을 모을 순 있음\n",
    "\n",
    "### Migration Migrate (정/역 방향)"
   ],
   "metadata": {
    "collapsed": false
   },
   "id": "8ed265767dc5c982"
  },
  {
   "cell_type": "code",
   "execution_count": null,
   "outputs": [],
   "source": [
    "python manage.py migrate <appname>"
   ],
   "metadata": {
    "collapsed": false
   },
   "id": "2b4992eb50d8f31e"
  },
  {
   "cell_type": "markdown",
   "source": [
    "7 <최근 migration file>\n",
    "6\n",
    "5\n",
    "4\n",
    "3\n",
    "2\n",
    "1 \n",
    "정방향 : 숫자 순서대로 진행 = 정방향으로 순차적으로 수행"
   ],
   "metadata": {
    "collapsed": false
   },
   "id": "e75c1246a9203beb"
  },
  {
   "cell_type": "code",
   "execution_count": null,
   "outputs": [],
   "source": [
    "python manage.py migrate <appname> <migration-name>"
   ],
   "metadata": {
    "collapsed": false
   },
   "id": "b6ce4daa6dadb683"
  },
  {
   "cell_type": "markdown",
   "source": [
    "migration-name 가장 최근 마이그레이션을 쓰는 것.    \n",
    "역방향 : 현재 5인 상태에서 <migration-name>을 3으로 한다면 5에서 3으로 이동하는데,    \n",
    "5번 취소, 4번 취소하여 3으로 이동한다.    \n",
    "여기서 다시 5로 가고 싶다면 4, 5번을 다시 적용하여 5로 이동한다."
   ],
   "metadata": {
    "collapsed": false
   },
   "id": "a70ac13b8dfa338c"
  },
  {
   "cell_type": "markdown",
   "source": [
    "### <migration-name> 지정\n",
    "A, B 가 동시에 push하면 같은 번호로 파일이 생길 수 있다.    \n",
    "<migration-name> 앞쪽 일부만 작성해도 된다. 하지만 unique로 구별가능해야 함.\n",
    "\n",
    "사실 dependencies에 따라 이름이 정해진다.\n"
   ],
   "metadata": {
    "collapsed": false
   },
   "id": "10cdc7e3aa9bf56c"
  },
  {
   "cell_type": "markdown",
   "source": [
    "### 새로운 필드가 필수필드라면?\n",
    "blank/null = False -> 필수필드\n",
    "기존 record값을 어떻게 채워넣을 것인가? 기입할 때 해당 필드의 form에 맞춰서 기입해야함.\n",
    "\n",
    "<주의>\n",
    "1. 팀원 각자가 마이그레이션을 생성하여 업로드하면 충돌 발생하므로\n",
    "2. 마이그레이션 파일 생성은 1명이 전담하여 만든다.\n",
    "3. 다른 팀원은 이를 받아 migrate만 수행.\n",
    "\n",
    "**서버 적용 후 생성된 마이그레이션이 여러개라면? 하나로 합쳐서 적용하기를 권장**\n",
    "1. 서버에 미적용된 마이그레이션을 모두 롤백하고\n",
    "2. 롤백된 마이그레이션 파일 모두 제거\n",
    "3. 히스토리는 남으니 그거로 새로 마이그레이션 파일 생성\n",
    "4. 미적용된 마이그레이션들이 하나로 합쳐짐 \n",
    "\n"
   ],
   "metadata": {
    "collapsed": false
   },
   "id": "204588caf6623e54"
  },
  {
   "cell_type": "code",
   "execution_count": null,
   "outputs": [],
   "source": [],
   "metadata": {
    "collapsed": false
   },
   "id": "81c306146fe3237d"
  }
 ],
 "metadata": {
  "kernelspec": {
   "display_name": "Python 3",
   "language": "python",
   "name": "python3"
  },
  "language_info": {
   "codemirror_mode": {
    "name": "ipython",
    "version": 2
   },
   "file_extension": ".py",
   "mimetype": "text/x-python",
   "name": "python",
   "nbconvert_exporter": "python",
   "pygments_lexer": "ipython2",
   "version": "2.7.6"
  }
 },
 "nbformat": 4,
 "nbformat_minor": 5
}
