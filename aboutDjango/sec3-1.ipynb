{
 "cells": [
  {
   "cell_type": "markdown",
   "source": [
    "# View\n",
    "n개의 HTTP request -> 1개 view 호출    \n",
    "`urls.py/urlpatterns` 리스트에 뷰를 매핑함 ,     \n",
    "    함수의 형태 등 호출 가능한 객체로 구현할 수 있다.\n",
    "    \n",
    "웹 클라이언트로부터 HTTP 요청을 받아서 처리\n",
    "\n",
    "1. 함수 기반 뷰 Function Based View (FBV)\n",
    "장고 뷰의 기본이므로 이것을 제작할 수 있어야한다.    \n",
    "2. 클래스 기반 뷰 Class Based View (CBV)\n",
    "classname.as_view()로 호출 가능    \n",
    "FBV가 익숙해지면 CBV 하기를 추천\n",
    "\n",
    "### View 호출 시, 인자는?\n",
    "parameter : HttpRequest 객체 , URL Captured Values\n",
    "1. HttpRequest 객체\n",
    "현재 요청에 대한 모든 내역        \n",
    "2. URL Captured Values    \n",
    "```\n",
    "urlpatterns = [\n",
    "path('/instagram/', views.post_list),\n",
    "path('/instagram/1/', views.post_list),\n",
    "path('/instagram/2/', views.post_list),\n",
    "]\n",
    "```\n",
    "대신에,\n",
    "```\n",
    "urlpatterns = [\n",
    "path('', views.post_list),\n",
    "path('<int:pk>/', views.post_detail), # post_detail pk 값이 int로 넘어감\n",
    "re_path(r'(?P<pk>\\d+)/$', views.post_detail), # post_detail pk 값이 string으로 넘어감\n",
    "]\n",
    "```"
   ],
   "metadata": {
    "collapsed": false
   },
   "id": "cf1bd5ace1b53a1e"
  },
  {
   "cell_type": "code",
   "execution_count": null,
   "id": "initial_id",
   "metadata": {
    "collapsed": true
   },
   "outputs": [],
   "source": [
    "def post_list(request):\n",
    "    pass\n",
    "def post_detail(request, pk): # 정규표현식에서 사용한 인자명 그대로 사용해야함\n",
    "    pass"
   ]
  },
  {
   "cell_type": "markdown",
   "source": [
    "path를 통한 처리 : 매핑된 Converter(<int:pk> 이부분, 정규표현식이 정의된 클래스임)에 to_python에 맞게 변환된 값이 전달됨\n",
    "\n",
    "### View 호출에 대한 return value\n",
    "- HttpResponse 객체 반환해야함!\n",
    "View를 middleware가 감싸서, request는 middleware를 거친뒤 view로 향한다.\n",
    "그래서 HttpResponse 객체가 아닌 다른 타입을 반환하면,    \n",
    "object has no attribute 'get' 미들웨어에서 에러날 수 있다.    \n",
    "파일처럼 함수를 사용할 수 있다."
   ],
   "metadata": {
    "collapsed": false
   },
   "id": "f7465b61e4db63c8"
  },
  {
   "cell_type": "code",
   "execution_count": 1,
   "outputs": [],
   "source": [
    "def post_detail(request: HttpRequest, pk:int) -> HttpResponse:\n",
    "    response = HttpResponse()\n",
    "    response.write(\"Hello World\")\n",
    "    return response"
   ],
   "metadata": {
    "collapsed": false,
    "ExecuteTime": {
     "end_time": "2023-10-29T12:27:20.610760Z",
     "start_time": "2023-10-29T12:27:20.599275Z"
    }
   },
   "id": "e8ccdcd6415d31bc"
  },
  {
   "cell_type": "markdown",
   "source": [
    "**request 속성들**    \n",
    "request.method    \n",
    "request.META    \n",
    "request.GET , .POST , .FILES , .body\n",
    "\n",
    "### FBV example\n",
    "myapp/views.py"
   ],
   "metadata": {
    "collapsed": false
   },
   "id": "e025f8c3850479e"
  },
  {
   "cell_type": "code",
   "execution_count": 2,
   "outputs": [],
   "source": [
    "def item_list(request):\n",
    "    qs = Item.objects.all()\n",
    "    return render(request, 'shop/item_list.html', {\n",
    "        'item_list': qs,\n",
    "    })"
   ],
   "metadata": {
    "collapsed": false,
    "ExecuteTime": {
     "end_time": "2023-10-29T12:32:17.933139Z",
     "start_time": "2023-10-29T12:32:17.927386Z"
    }
   },
   "id": "6376728a9164a9ac"
  },
  {
   "cell_type": "markdown",
   "source": [
    "myapp/urls.py"
   ],
   "metadata": {
    "collapsed": false
   },
   "id": "659fbac6552bceb5"
  },
  {
   "cell_type": "code",
   "execution_count": null,
   "outputs": [],
   "source": [
    "urlpatterns = [\n",
    "    path('items/', item_list, name='item_list'),\n",
    "]"
   ],
   "metadata": {
    "collapsed": false
   },
   "id": "a4e6b4f0f59fd3fa"
  },
  {
   "cell_type": "markdown",
   "source": [
    "### CBV example"
   ],
   "metadata": {
    "collapsed": false
   },
   "id": "9d576d94f685ede2"
  },
  {
   "cell_type": "code",
   "execution_count": null,
   "outputs": [],
   "source": [
    "class GenericListView:\n",
    "    ...\n",
    "    def __call__(self, request):\n",
    "        pass\n",
    "\n",
    "item_list = GenericListView(Item)\n",
    "\n",
    "urlpatterns = [\n",
    "    path('items/', item_list, name='item_list'),\n",
    "]"
   ],
   "metadata": {
    "collapsed": false
   },
   "id": "34a89e27751ee5db"
  },
  {
   "cell_type": "markdown",
   "source": [
    "__call__ 가 구현되어있으면 item_list 을 urlpatterns 에 적어두면 호출된다."
   ],
   "metadata": {
    "collapsed": false
   },
   "id": "bd048c052b905fee"
  },
  {
   "cell_type": "code",
   "execution_count": null,
   "outputs": [],
   "source": [
    "from django.views.generic import ListView\n",
    "\n",
    "post_list = ListView.as_view(model=Post)\n",
    "\n",
    "urlpatterns = [\n",
    "    path('items/', item_list, name='item_list'),\n",
    "]"
   ],
   "metadata": {
    "collapsed": false
   },
   "id": "13bb8a19ba09a705"
  },
  {
   "cell_type": "code",
   "execution_count": null,
   "outputs": [],
   "source": [
    "class ItemListView(ListView):\n",
    "    model = Item\n",
    "    \n",
    "item_list = ItemListView.as_view()\n",
    "\n",
    "urlpatterns = [\n",
    "    path('items/', item_list, name='item_list'),\n",
    "]"
   ],
   "metadata": {
    "collapsed": false
   },
   "id": "5330b4ef96569112"
  },
  {
   "cell_type": "markdown",
   "source": [
    "### View에서\n",
    "Excel 파일 다운로드 응답만들기    \n",
    "- with ... as 사용\n",
    "- pandas library 사용\n",
    "\n",
    "이미지 response 만들기\n",
    "- pillow 사용\n",
    "\n",
    "# URL Dispatcher와 정규 표현식\n",
    "- 주소 = 서버의위치/요청/ URL/\n",
    "- urlpatterns list = 특정 URL pattern은 특정 View가 처리 \n",
    "- 최상위 URL은 project/settings.py에서 ROOT_URLCONF 모듈로 지정\n",
    "- 최상위 urlpatterns에서 include를 사용하여 Tree 구조로 url 확장    \n",
    "- 순차적으로 url을 확인하기 때문에 가장 먼저 적합한 url path가 불러와진다.\n",
    "- 매칭된게 없으면 404\n",
    "\n",
    "### urlpatterns example\n",
    "기본 제공되는 Path Converters를 이용해서 정규표현식을 편리하게 사용할 수 있다.\n",
    "\n",
    "**정규 표현식**\n",
    "- 문자열의 패턴, 규칙을 정의하는 방법\n",
    "- 장고 URL Dispatcher에서 정규표현식을 통한 URL 매칭을 한다.\n",
    "- 다양한 정규 표현식 패턴, 반복횟수 지정 문법보고 작성하면 된다.\n",
    "\n",
    "### Custom path Convert\n",
    "`path('appname/<convertname:parametername>/', views.archives.year)`"
   ],
   "metadata": {
    "collapsed": false
   },
   "id": "d795897971d1467e"
  },
  {
   "cell_type": "code",
   "execution_count": null,
   "outputs": [],
   "source": [
    "class YearConvert:\n",
    "    regex = r\"20\\d{2}\"\n",
    "    \n",
    "    def to_python(self, value): # 정수로 변환\n",
    "        return int(value)\n",
    "    def to_url(self, value): # 어떤 값을 문자열 reverse 다시 변환 \n",
    "        return \"%04d\" % value\n",
    "\n",
    "register_converter(YearConvert, 'year')\n",
    "\n",
    "urlpatterns = [\n",
    "    ...\n",
    "    path('archives/<year:year>/', views.archives.year),\n",
    "]"
   ],
   "metadata": {
    "collapsed": false
   },
   "id": "d1049a02ae04ada1"
  },
  {
   "cell_type": "markdown",
   "source": [
    "1. 앱 생성\n",
    "2. 앱 이름/urls.py 파일 생성\n",
    "3. 프로젝트/urls.py에 include 적용\n",
    "4. 프로젝트/settings.py INSTALLED_APPS에 앱 이름 등록\n",
    "\n"
   ],
   "metadata": {
    "collapsed": false
   },
   "id": "b5423f2b032c7655"
  },
  {
   "cell_type": "markdown",
   "source": [],
   "metadata": {
    "collapsed": false
   },
   "id": "d5fcd83141e246ca"
  },
  {
   "cell_type": "markdown",
   "source": [],
   "metadata": {
    "collapsed": false
   },
   "id": "6c4914da8fd15f0c"
  }
 ],
 "metadata": {
  "kernelspec": {
   "display_name": "Python 3",
   "language": "python",
   "name": "python3"
  },
  "language_info": {
   "codemirror_mode": {
    "name": "ipython",
    "version": 2
   },
   "file_extension": ".py",
   "mimetype": "text/x-python",
   "name": "python",
   "nbconvert_exporter": "python",
   "pygments_lexer": "ipython2",
   "version": "2.7.6"
  }
 },
 "nbformat": 4,
 "nbformat_minor": 5
}
